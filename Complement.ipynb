{
 "cells": [
  {
   "cell_type": "code",
   "execution_count": 1,
   "id": "42281700-d356-4196-9f78-81df218f1cc2",
   "metadata": {},
   "outputs": [],
   "source": [
    "import pandas as pd\n",
    "\n",
    "# Dados das preferências de transporte\n",
    "transporte = [\n",
    "    \"Carro\", \"Ônibus\", \"Bicicleta\", \"Carro\", \"Metrô\", \"Ônibus\", \n",
    "    \"Bicicleta\", \"Carro\", \"Metrô\", \"Bicicleta\", \"Carro\", \"Ônibus\", \n",
    "    \"Bicicleta\", \"Carro\", \"Metrô\", \"Carro\", \"Ônibus\", \"Bicicleta\", \n",
    "    \"Carro\", \"Metrô\", \"Ônibus\", \"Bicicleta\", \"Metrô\", \"Carro\",\n",
    "    \"Bicicleta\", \"Carro\", \"Metrô\", \"Ônibus\", \"Carro\", \"Bicicleta\",\n",
    "    \"Metrô\", \"Ônibus\", \"Carro\", \"Bicicleta\", \"Ônibus\", \"Metrô\",\n",
    "    \"Carro\", \"Ônibus\", \"Metrô\", \"Bicicleta\", \"Carro\", \"Metrô\",\n",
    "    \"Bicicleta\", \"Ônibus\", \"Carro\", \"Metrô\", \"Ônibus\", \"Bicicleta\"\n",
    "]\n"
   ]
  },
  {
   "cell_type": "code",
   "execution_count": 2,
   "id": "61481dd1-5226-494b-8766-358887ae3c0c",
   "metadata": {},
   "outputs": [],
   "source": [
    "# Transformando em um DataFrame\n",
    "dados = pd.DataFrame(transporte, columns=['Meio_Transporte'])\n"
   ]
  },
  {
   "cell_type": "code",
   "execution_count": 3,
   "id": "d4caa920-8483-4338-8d5e-78c6fb7752b6",
   "metadata": {},
   "outputs": [
    {
     "data": {
      "text/html": [
       "<div>\n",
       "<style scoped>\n",
       "    .dataframe tbody tr th:only-of-type {\n",
       "        vertical-align: middle;\n",
       "    }\n",
       "\n",
       "    .dataframe tbody tr th {\n",
       "        vertical-align: top;\n",
       "    }\n",
       "\n",
       "    .dataframe thead th {\n",
       "        text-align: right;\n",
       "    }\n",
       "</style>\n",
       "<table border=\"1\" class=\"dataframe\">\n",
       "  <thead>\n",
       "    <tr style=\"text-align: right;\">\n",
       "      <th></th>\n",
       "      <th>Meio_Transporte</th>\n",
       "    </tr>\n",
       "  </thead>\n",
       "  <tbody>\n",
       "    <tr>\n",
       "      <th>0</th>\n",
       "      <td>Carro</td>\n",
       "    </tr>\n",
       "    <tr>\n",
       "      <th>1</th>\n",
       "      <td>Ônibus</td>\n",
       "    </tr>\n",
       "    <tr>\n",
       "      <th>2</th>\n",
       "      <td>Bicicleta</td>\n",
       "    </tr>\n",
       "    <tr>\n",
       "      <th>3</th>\n",
       "      <td>Carro</td>\n",
       "    </tr>\n",
       "    <tr>\n",
       "      <th>4</th>\n",
       "      <td>Metrô</td>\n",
       "    </tr>\n",
       "  </tbody>\n",
       "</table>\n",
       "</div>"
      ],
      "text/plain": [
       "  Meio_Transporte\n",
       "0           Carro\n",
       "1          Ônibus\n",
       "2       Bicicleta\n",
       "3           Carro\n",
       "4           Metrô"
      ]
     },
     "execution_count": 3,
     "metadata": {},
     "output_type": "execute_result"
    }
   ],
   "source": [
    "dados.head()\n"
   ]
  },
  {
   "cell_type": "code",
   "execution_count": 5,
   "id": "2d438d10-cd42-4725-b1b1-e709656222b3",
   "metadata": {},
   "outputs": [
    {
     "data": {
      "text/html": [
       "<div>\n",
       "<style scoped>\n",
       "    .dataframe tbody tr th:only-of-type {\n",
       "        vertical-align: middle;\n",
       "    }\n",
       "\n",
       "    .dataframe tbody tr th {\n",
       "        vertical-align: top;\n",
       "    }\n",
       "\n",
       "    .dataframe thead th {\n",
       "        text-align: right;\n",
       "    }\n",
       "</style>\n",
       "<table border=\"1\" class=\"dataframe\">\n",
       "  <thead>\n",
       "    <tr style=\"text-align: right;\">\n",
       "      <th></th>\n",
       "      <th>Meio_Transporte</th>\n",
       "      <th>Fi</th>\n",
       "    </tr>\n",
       "  </thead>\n",
       "  <tbody>\n",
       "    <tr>\n",
       "      <th>0</th>\n",
       "      <td>Bicicleta</td>\n",
       "      <td>12</td>\n",
       "    </tr>\n",
       "    <tr>\n",
       "      <th>1</th>\n",
       "      <td>Carro</td>\n",
       "      <td>14</td>\n",
       "    </tr>\n",
       "    <tr>\n",
       "      <th>2</th>\n",
       "      <td>Metrô</td>\n",
       "      <td>11</td>\n",
       "    </tr>\n",
       "    <tr>\n",
       "      <th>3</th>\n",
       "      <td>Ônibus</td>\n",
       "      <td>11</td>\n",
       "    </tr>\n",
       "  </tbody>\n",
       "</table>\n",
       "</div>"
      ],
      "text/plain": [
       "  Meio_Transporte  Fi\n",
       "0       Bicicleta  12\n",
       "1           Carro  14\n",
       "2           Metrô  11\n",
       "3          Ônibus  11"
      ]
     },
     "execution_count": 5,
     "metadata": {},
     "output_type": "execute_result"
    }
   ],
   "source": [
    "tabela_freq = (\n",
    "    dados.groupby('Meio_Transporte')\n",
    "    .size()\n",
    "    .reset_index(name='Fi')\n",
    ")\n",
    "tabela_freq"
   ]
  },
  {
   "cell_type": "code",
   "execution_count": 10,
   "id": "b251ed34",
   "metadata": {},
   "outputs": [
    {
     "data": {
      "text/html": [
       "<div>\n",
       "<style scoped>\n",
       "    .dataframe tbody tr th:only-of-type {\n",
       "        vertical-align: middle;\n",
       "    }\n",
       "\n",
       "    .dataframe tbody tr th {\n",
       "        vertical-align: top;\n",
       "    }\n",
       "\n",
       "    .dataframe thead th {\n",
       "        text-align: right;\n",
       "    }\n",
       "</style>\n",
       "<table border=\"1\" class=\"dataframe\">\n",
       "  <thead>\n",
       "    <tr style=\"text-align: right;\">\n",
       "      <th></th>\n",
       "      <th>Meio_Transporte</th>\n",
       "      <th>Fi</th>\n",
       "      <th>Fr</th>\n",
       "    </tr>\n",
       "  </thead>\n",
       "  <tbody>\n",
       "    <tr>\n",
       "      <th>0</th>\n",
       "      <td>Bicicleta</td>\n",
       "      <td>12</td>\n",
       "      <td>0.25</td>\n",
       "    </tr>\n",
       "    <tr>\n",
       "      <th>1</th>\n",
       "      <td>Carro</td>\n",
       "      <td>14</td>\n",
       "      <td>0.29</td>\n",
       "    </tr>\n",
       "    <tr>\n",
       "      <th>2</th>\n",
       "      <td>Metrô</td>\n",
       "      <td>11</td>\n",
       "      <td>0.23</td>\n",
       "    </tr>\n",
       "    <tr>\n",
       "      <th>3</th>\n",
       "      <td>Ônibus</td>\n",
       "      <td>11</td>\n",
       "      <td>0.23</td>\n",
       "    </tr>\n",
       "  </tbody>\n",
       "</table>\n",
       "</div>"
      ],
      "text/plain": [
       "  Meio_Transporte  Fi    Fr\n",
       "0       Bicicleta  12  0.25\n",
       "1           Carro  14  0.29\n",
       "2           Metrô  11  0.23\n",
       "3          Ônibus  11  0.23"
      ]
     },
     "execution_count": 10,
     "metadata": {},
     "output_type": "execute_result"
    }
   ],
   "source": [
    "tabela_freq['Fr'] = round(tabela_freq['Fi'] / tabela_freq['Fi'].sum(), 2)\n",
    "tabela_freq"
   ]
  },
  {
   "cell_type": "code",
   "execution_count": 11,
   "id": "3514b0c3",
   "metadata": {},
   "outputs": [
    {
     "data": {
      "text/html": [
       "<div>\n",
       "<style scoped>\n",
       "    .dataframe tbody tr th:only-of-type {\n",
       "        vertical-align: middle;\n",
       "    }\n",
       "\n",
       "    .dataframe tbody tr th {\n",
       "        vertical-align: top;\n",
       "    }\n",
       "\n",
       "    .dataframe thead th {\n",
       "        text-align: right;\n",
       "    }\n",
       "</style>\n",
       "<table border=\"1\" class=\"dataframe\">\n",
       "  <thead>\n",
       "    <tr style=\"text-align: right;\">\n",
       "      <th></th>\n",
       "      <th>Meio_Transporte</th>\n",
       "      <th>Fi</th>\n",
       "      <th>Fr</th>\n",
       "      <th>F</th>\n",
       "    </tr>\n",
       "  </thead>\n",
       "  <tbody>\n",
       "    <tr>\n",
       "      <th>0</th>\n",
       "      <td>Bicicleta</td>\n",
       "      <td>12</td>\n",
       "      <td>0.25</td>\n",
       "      <td>12</td>\n",
       "    </tr>\n",
       "    <tr>\n",
       "      <th>1</th>\n",
       "      <td>Carro</td>\n",
       "      <td>14</td>\n",
       "      <td>0.29</td>\n",
       "      <td>26</td>\n",
       "    </tr>\n",
       "    <tr>\n",
       "      <th>2</th>\n",
       "      <td>Metrô</td>\n",
       "      <td>11</td>\n",
       "      <td>0.23</td>\n",
       "      <td>37</td>\n",
       "    </tr>\n",
       "    <tr>\n",
       "      <th>3</th>\n",
       "      <td>Ônibus</td>\n",
       "      <td>11</td>\n",
       "      <td>0.23</td>\n",
       "      <td>48</td>\n",
       "    </tr>\n",
       "  </tbody>\n",
       "</table>\n",
       "</div>"
      ],
      "text/plain": [
       "  Meio_Transporte  Fi    Fr   F\n",
       "0       Bicicleta  12  0.25  12\n",
       "1           Carro  14  0.29  26\n",
       "2           Metrô  11  0.23  37\n",
       "3          Ônibus  11  0.23  48"
      ]
     },
     "execution_count": 11,
     "metadata": {},
     "output_type": "execute_result"
    }
   ],
   "source": [
    "tabela_freq['F'] = tabela_freq['Fi'].cumsum()\n",
    "tabela_freq"
   ]
  },
  {
   "cell_type": "code",
   "execution_count": 12,
   "id": "cba75d87",
   "metadata": {},
   "outputs": [
    {
     "data": {
      "text/html": [
       "<div>\n",
       "<style scoped>\n",
       "    .dataframe tbody tr th:only-of-type {\n",
       "        vertical-align: middle;\n",
       "    }\n",
       "\n",
       "    .dataframe tbody tr th {\n",
       "        vertical-align: top;\n",
       "    }\n",
       "\n",
       "    .dataframe thead th {\n",
       "        text-align: right;\n",
       "    }\n",
       "</style>\n",
       "<table border=\"1\" class=\"dataframe\">\n",
       "  <thead>\n",
       "    <tr style=\"text-align: right;\">\n",
       "      <th></th>\n",
       "      <th>Meio_Transporte</th>\n",
       "      <th>Fi</th>\n",
       "      <th>Fr</th>\n",
       "      <th>F</th>\n",
       "      <th>Fri_acum</th>\n",
       "    </tr>\n",
       "  </thead>\n",
       "  <tbody>\n",
       "    <tr>\n",
       "      <th>0</th>\n",
       "      <td>Bicicleta</td>\n",
       "      <td>12</td>\n",
       "      <td>0.25</td>\n",
       "      <td>12</td>\n",
       "      <td>0.25</td>\n",
       "    </tr>\n",
       "    <tr>\n",
       "      <th>1</th>\n",
       "      <td>Carro</td>\n",
       "      <td>14</td>\n",
       "      <td>0.29</td>\n",
       "      <td>26</td>\n",
       "      <td>0.54</td>\n",
       "    </tr>\n",
       "    <tr>\n",
       "      <th>2</th>\n",
       "      <td>Metrô</td>\n",
       "      <td>11</td>\n",
       "      <td>0.23</td>\n",
       "      <td>37</td>\n",
       "      <td>0.77</td>\n",
       "    </tr>\n",
       "    <tr>\n",
       "      <th>3</th>\n",
       "      <td>Ônibus</td>\n",
       "      <td>11</td>\n",
       "      <td>0.23</td>\n",
       "      <td>48</td>\n",
       "      <td>1.00</td>\n",
       "    </tr>\n",
       "  </tbody>\n",
       "</table>\n",
       "</div>"
      ],
      "text/plain": [
       "  Meio_Transporte  Fi    Fr   F  Fri_acum\n",
       "0       Bicicleta  12  0.25  12      0.25\n",
       "1           Carro  14  0.29  26      0.54\n",
       "2           Metrô  11  0.23  37      0.77\n",
       "3          Ônibus  11  0.23  48      1.00"
      ]
     },
     "execution_count": 12,
     "metadata": {},
     "output_type": "execute_result"
    }
   ],
   "source": [
    "tabela_freq['Fri_acum'] = tabela_freq['Fr'].cumsum()\n",
    "tabela_freq"
   ]
  },
  {
   "cell_type": "code",
   "execution_count": null,
   "id": "771855b6",
   "metadata": {},
   "outputs": [],
   "source": []
  }
 ],
 "metadata": {
  "kernelspec": {
   "display_name": "Python (data_science_env)",
   "language": "python",
   "name": "data_science"
  },
  "language_info": {
   "codemirror_mode": {
    "name": "ipython",
    "version": 3
   },
   "file_extension": ".py",
   "mimetype": "text/x-python",
   "name": "python",
   "nbconvert_exporter": "python",
   "pygments_lexer": "ipython3",
   "version": "3.12.11"
  }
 },
 "nbformat": 4,
 "nbformat_minor": 5
}
